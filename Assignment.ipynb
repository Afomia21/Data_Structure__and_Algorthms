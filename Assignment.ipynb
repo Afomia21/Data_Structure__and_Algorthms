{
 "cells": [
  {
   "cell_type": "markdown",
   "id": "4f2e4d57",
   "metadata": {},
   "source": [
    "# Name: [Afomia Kelemework]\n",
    "# ID: [1601505]\n",
    "# Department: [Data science]\n",
    "# GitHub:https://github.com/Afomia21/Data_Structure__and_Algorthms/upload\n",
    "# Data Structures and Algorithms Assignment\n",
    "# Sorting Student Profiles using Bubble Sort, Insertion Sort, and Selection Sort\n"
   ]
  },
  {
   "cell_type": "code",
   "execution_count": null,
   "id": "adbd32ed",
   "metadata": {},
   "outputs": [],
   "source": [
    "import random\n",
    "\n",
    "# Sample data\n",
    "names = ['Dawit', 'Abrham', 'Soliana', 'Rahel', 'Mekdes', 'Samuel', 'Lidiya', 'Bereket', 'Eden', 'Natnael']\n",
    "departments = ['CS', 'DS']\n",
    "\n",
    "# Generate random student profiles\n",
    "def generate_students():\n",
    "    students = []\n",
    "    for i in range(10):\n",
    "        student = {\n",
    "            'id': f'DBU15{random.randint(10000, 99999)}',\n",
    "            'name': names[i],\n",
    "            'dept': random.choice(departments),\n",
    "            'cgpa': round(random.uniform(2.0, 4.0), 2)\n",
    "        }\n",
    "        students.append(student)\n",
    "    return students\n",
    "\n",
    "Students = generate_students()\n",
    "\n",
    "# Display the original student list\n",
    "print(\"📋 Original Student Profiles:\")\n",
    "for s in Students:\n",
    "    print(s)\n"
   ]
  },
  {
   "cell_type": "code",
   "execution_count": null,
   "id": "3f545cc7",
   "metadata": {},
   "outputs": [],
   "source": [
    "def bubble_sort_by_id(student_list):\n",
    "    n = len(student_list)\n",
    "    for i in range(n):\n",
    "        for j in range(0, n-i-1):\n",
    "            if student_list[j]['id'] > student_list[j+1]['id']:\n",
    "                student_list[j], student_list[j+1] = student_list[j+1], student_list[j]\n",
    "    return student_list\n",
    "\n",
    "# Test Bubble Sort\n",
    "sorted_by_id = bubble_sort_by_id(Students.copy())\n",
    "print(\"\\n🔢 Sorted by ID (Bubble Sort):\")\n",
    "for s in sorted_by_id:\n",
    "    print(s)\n"
   ]
  },
  {
   "cell_type": "code",
   "execution_count": null,
   "id": "84b56571",
   "metadata": {},
   "outputs": [
    {
     "name": "stdout",
     "output_type": "stream",
     "text": [
      "\n",
      "🔠 Sorted by Name (Insertion Sort):\n",
      "{'id': 'DBU1581165', 'name': 'Abrham', 'dept': 'CS', 'cgpa': 2.63}\n",
      "{'id': 'DBU1590790', 'name': 'Bereket', 'dept': 'CS', 'cgpa': 3.13}\n",
      "{'id': 'DBU1592582', 'name': 'Dawit', 'dept': 'DS', 'cgpa': 3.73}\n",
      "{'id': 'DBU1550216', 'name': 'Eden', 'dept': 'CS', 'cgpa': 3.47}\n",
      "{'id': 'DBU1584104', 'name': 'Lidiya', 'dept': 'CS', 'cgpa': 3.78}\n",
      "{'id': 'DBU1527239', 'name': 'Mekdes', 'dept': 'DS', 'cgpa': 2.17}\n",
      "{'id': 'DBU1590178', 'name': 'Natnael', 'dept': 'CS', 'cgpa': 3.98}\n",
      "{'id': 'DBU1524982', 'name': 'Rahel', 'dept': 'DS', 'cgpa': 3.5}\n",
      "{'id': 'DBU1583258', 'name': 'Samuel', 'dept': 'DS', 'cgpa': 3.79}\n",
      "{'id': 'DBU1592007', 'name': 'Soliana', 'dept': 'DS', 'cgpa': 2.55}\n"
     ]
    }
   ],
   "source": [
    "def insertion_sort_by_name(student_list):\n",
    "    for i in range(1, len(student_list)):\n",
    "        key = student_list[i]\n",
    "        j = i - 1\n",
    "        while j >= 0 and key['name'].lower() < student_list[j]['name'].lower():\n",
    "            student_list[j + 1] = student_list[j]\n",
    "            j -= 1\n",
    "        student_list[j + 1] = key\n",
    "    return student_list\n",
    "\n",
    "# Test Insertion Sort\n",
    "sorted_by_name = insertion_sort_by_name(Students.copy())\n",
    "print(\"\\n🔠 Sorted by Name (Insertion Sort):\")\n",
    "for s in sorted_by_name:\n",
    "    print(s)\n"
   ]
  },
  {
   "cell_type": "code",
   "execution_count": null,
   "id": "c8185acc",
   "metadata": {},
   "outputs": [],
   "source": [
    "def selection_sort_by_cgpa(student_list):\n",
    "    n = len(student_list)\n",
    "    for i in range(n):\n",
    "        max_idx = i\n",
    "        for j in range(i+1, n):\n",
    "            if student_list[j]['cgpa'] > student_list[max_idx]['cgpa']:\n",
    "                max_idx = j\n",
    "        student_list[i], student_list[max_idx] = student_list[max_idx], student_list[i]\n",
    "    return student_list\n",
    "\n",
    "# Test Selection Sort\n",
    "sorted_by_cgpa = selection_sort_by_cgpa(Students.copy())\n",
    "print(\"\\n📊 Sorted by CGPA (Selection Sort - Descending):\")\n",
    "for s in sorted_by_cgpa:\n",
    "    print(s)\n"
   ]
  },
  {
   "cell_type": "markdown",
   "id": "7dc0af64",
   "metadata": {},
   "source": [
    "## 🔍 Analysis of Sorting Algorithms\n",
    "\n",
    "### 🔁 Bubble Sort\n",
    "- **Time Complexity**: O(n²)\n",
    "- **Best Case**: O(n) when already sorted\n",
    "- **Worst Case**: O(n²)\n",
    "- **Advantage**: Simple and easy to implement\n",
    "- **Disadvantage**: Very inefficient for large datasets\n",
    "\n",
    "### 🔤 Insertion Sort\n",
    "- **Time Complexity**: O(n²)\n",
    "- **Best Case**: O(n) when data is nearly sorted\n",
    "- **Worst Case**: O(n²)\n",
    "- **Advantage**: Efficient for small or nearly sorted datasets\n",
    "- **Disadvantage**: Slow for large lists\n",
    "\n",
    "### 📈 Selection Sort\n",
    "- **Time Complexity**: O(n²) for all cases\n",
    "- **Advantage**: Performs well on small datasets\n",
    "- **Disadvantage**: Always makes n² comparisons regardless of the initial order\n",
    "\n",
    "### 🧠 Dictionary Sorting Note\n",
    "- Sorting dictionary-based data requires comparing key values.\n",
    "- Algorithms must handle comparisons carefully (e.g., `dict['name']` or `dict['cgpa']`).\n",
    "- Python's built-in `sorted()` with `key=` is more efficient for real-world use.\n"
   ]
  }
 ],
 "metadata": {
  "kernelspec": {
   "display_name": "Python 3",
   "language": "python",
   "name": "python3"
  },
  "language_info": {
   "codemirror_mode": {
    "name": "ipython",
    "version": 3
   },
   "file_extension": ".py",
   "mimetype": "text/x-python",
   "name": "python",
   "nbconvert_exporter": "python",
   "pygments_lexer": "ipython3",
   "version": "3.13.1"
  }
 },
 "nbformat": 4,
 "nbformat_minor": 5
}
